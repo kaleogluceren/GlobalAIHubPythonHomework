{
 "cells": [
  {
   "cell_type": "code",
   "execution_count": null,
   "metadata": {},
   "outputs": [],
   "source": [
    "### Homework2- User Identification Program\n",
    "fname= input(\"Please enter your name : \")\n",
    "sname= input(\"Please enter your surname: \")\n",
    "age= int(input(\"Please enter your age: \"))\n",
    "date_birth= int(input(\"Please enter your date of birth: \"))\n",
    "if(int(age)<18):\n",
    "    print(\"You can't go out! Because it's too dangerous.\")\n",
    "else:\n",
    "        print(\"You can go out to the street :) \")"
   ]
  },
  {
   "cell_type": "code",
   "execution_count": null,
   "metadata": {},
   "outputs": [],
   "source": []
  }
 ],
 "metadata": {
  "kernelspec": {
   "display_name": "Python 3",
   "language": "python",
   "name": "python3"
  },
  "language_info": {
   "codemirror_mode": {
    "name": "ipython",
    "version": 3
   },
   "file_extension": ".py",
   "mimetype": "text/x-python",
   "name": "python",
   "nbconvert_exporter": "python",
   "pygments_lexer": "ipython3",
   "version": "3.8.5"
  }
 },
 "nbformat": 4,
 "nbformat_minor": 4
}
