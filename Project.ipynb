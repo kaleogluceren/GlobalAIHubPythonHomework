{
 "cells": [
  {
   "cell_type": "code",
   "execution_count": 1,
   "metadata": {},
   "outputs": [
    {
     "name": "stdout",
     "output_type": "stream",
     "text": [
      "Your Remaining Chance 3\n",
      "Please Enter Your Name: ilkay\n",
      "Please Enter Your Surname: ceren\n",
      "Welcome ilkay ceren\n",
      "Enter the 1. the course you chose: music\n",
      "Please Enter the course of you chose: music\n",
      "Selected course:  music\n",
      "enter your midterm  grade: 50\n",
      "Enter your final grade: 60\n",
      "Enter your project grade: 90\n",
      "DD\n"
     ]
    }
   ],
   "source": [
    "## simple student managament system\n",
    "\n",
    "chance = 3\n",
    "while (True):\n",
    "    print (\"Your Remaining Chance\", chance)\n",
    "    name = input(\"Please Enter Your Name: \")\n",
    "    surname= input(\"Please Enter Your Surname: \")\n",
    "    if chance == 0:\n",
    "        print(\"Please Try Again Later...\")\n",
    "        break\n",
    "    if name ==  \"ilkay\" and surname ==  \"ceren\" :\n",
    "        print(f\"Welcome {name} {surname}\")\n",
    "        break\n",
    "    else:\n",
    "            chance-=1\n",
    "\n",
    "\n",
    "            \n",
    "            \n",
    "lessonlist = []\n",
    "for i in range (5):\n",
    "    \n",
    "    lesson = input(f\"Enter the {i+1}. the course you chose: \")\n",
    "    lessonlist.append(lesson)\n",
    "    \n",
    "\n",
    "\n",
    "\n",
    "    for lesson in lessonlist:\n",
    "        chosed_lesson = input(\"Please Enter the course of you chose: \")\n",
    "    if lesson == chosed_lesson:\n",
    "        print(\"Selected course: \", chosed_lesson)\n",
    "        break\n",
    "    else: \n",
    "            print(\"Selected Course Not Found İn Courses\")\n",
    "            print(\"Please Try Again...\")\n",
    "            \n",
    "\n",
    "grades= {'midterm': 0, 'final': 0, 'project': 0}\n",
    "midterm_grade= int(input(\"enter your midterm  grade: \"))\n",
    "grades['mitderm']= midterm_grade\n",
    "\n",
    "final_grade = int(input('Enter your final grade: '))\n",
    "grades['final'] = final_grade\n",
    "\n",
    "\n",
    "project_grade = int(input('Enter your project grade: '))\n",
    "grades['project'] = project_grade\n",
    "\n",
    "\n",
    "\n",
    "your_grade = grades['midterm'] * 3/10 + grades['final'] * 5/10 + grades['project'] * 2/10\n",
    "\n",
    "if your_grade >= 90:\n",
    "    print(\"AA\")\n",
    "elif 90 > your_grade and your_grade >= 70:\n",
    "    print(\"BB\")\n",
    "elif 70 > your_grade and your_grade >= 50:\n",
    "    print(\"CC\")\n",
    "elif 50 > your_grade and your_grade >= 30:\n",
    "    print(\"DD\")\n",
    "elif 30 > your_grade:\n",
    "    print(\"FF\")\n",
    "    print(f'You failed the {chosed_lesson} course')"
   ]
  }
 ],
 "metadata": {
  "kernelspec": {
   "display_name": "Python 3",
   "language": "python",
   "name": "python3"
  },
  "language_info": {
   "codemirror_mode": {
    "name": "ipython",
    "version": 3
   },
   "file_extension": ".py",
   "mimetype": "text/x-python",
   "name": "python",
   "nbconvert_exporter": "python",
   "pygments_lexer": "ipython3",
   "version": "3.8.5"
  }
 },
 "nbformat": 4,
 "nbformat_minor": 4
}
